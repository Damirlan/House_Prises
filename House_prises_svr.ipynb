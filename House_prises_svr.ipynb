{
 "cells": [
  {
   "cell_type": "code",
   "execution_count": 1,
   "id": "efbf5823",
   "metadata": {
    "_cell_guid": "b1076dfc-b9ad-4769-8c92-a6c4dae69d19",
    "_uuid": "8f2839f25d086af736a60e9eeb907d3b93b6e0e5",
    "execution": {
     "iopub.execute_input": "2022-10-29T13:43:03.115582Z",
     "iopub.status.busy": "2022-10-29T13:43:03.114639Z",
     "iopub.status.idle": "2022-10-29T13:43:03.132720Z",
     "shell.execute_reply": "2022-10-29T13:43:03.131646Z"
    },
    "papermill": {
     "duration": 0.030415,
     "end_time": "2022-10-29T13:43:03.137117",
     "exception": false,
     "start_time": "2022-10-29T13:43:03.106702",
     "status": "completed"
    },
    "tags": []
   },
   "outputs": [
    {
     "name": "stdout",
     "output_type": "stream",
     "text": [
      "/kaggle/input/house-prices-advanced-regression-techniques/sample_submission.csv\n",
      "/kaggle/input/house-prices-advanced-regression-techniques/data_description.txt\n",
      "/kaggle/input/house-prices-advanced-regression-techniques/train.csv\n",
      "/kaggle/input/house-prices-advanced-regression-techniques/test.csv\n"
     ]
    }
   ],
   "source": [
    "# This Python 3 environment comes with many helpful analytics libraries installed\n",
    "# It is defined by the kaggle/python Docker image: https://github.com/kaggle/docker-python\n",
    "# For example, here's several helpful packages to load\n",
    "\n",
    "import numpy as np # linear algebra\n",
    "import pandas as pd # data processing, CSV file I/O (e.g. pd.read_csv)\n",
    "\n",
    "# Input data files are available in the read-only \"../input/\" directory\n",
    "# For example, running this (by clicking run or pressing Shift+Enter) will list all files under the input directory\n",
    "\n",
    "import os\n",
    "for dirname, _, filenames in os.walk('/kaggle/input'):\n",
    "    for filename in filenames:\n",
    "        print(os.path.join(dirname, filename))\n",
    "\n",
    "# You can write up to 20GB to the current directory (/kaggle/working/) that gets preserved as output when you create a version using \"Save & Run All\" \n",
    "# You can also write temporary files to /kaggle/temp/, but they won't be saved outside of the current session"
   ]
  },
  {
   "cell_type": "code",
   "execution_count": 2,
   "id": "f5c1562a",
   "metadata": {
    "execution": {
     "iopub.execute_input": "2022-10-29T13:43:03.149728Z",
     "iopub.status.busy": "2022-10-29T13:43:03.148817Z",
     "iopub.status.idle": "2022-10-29T13:43:04.437750Z",
     "shell.execute_reply": "2022-10-29T13:43:04.436464Z"
    },
    "papermill": {
     "duration": 1.29775,
     "end_time": "2022-10-29T13:43:04.440601",
     "exception": false,
     "start_time": "2022-10-29T13:43:03.142851",
     "status": "completed"
    },
    "tags": []
   },
   "outputs": [],
   "source": [
    "from sklearn.metrics import mean_squared_error\n",
    "from sklearn.model_selection import train_test_split\n",
    "import matplotlib.pyplot as plt\n",
    "from sklearn.svm import SVR\n",
    "from sklearn.metrics import r2_score\n",
    "import math\n",
    "import pandas as pd"
   ]
  },
  {
   "cell_type": "code",
   "execution_count": 3,
   "id": "4b2916ac",
   "metadata": {
    "execution": {
     "iopub.execute_input": "2022-10-29T13:43:04.450935Z",
     "iopub.status.busy": "2022-10-29T13:43:04.450506Z",
     "iopub.status.idle": "2022-10-29T13:43:04.459305Z",
     "shell.execute_reply": "2022-10-29T13:43:04.457993Z"
    },
    "papermill": {
     "duration": 0.016763,
     "end_time": "2022-10-29T13:43:04.461663",
     "exception": false,
     "start_time": "2022-10-29T13:43:04.444900",
     "status": "completed"
    },
    "tags": []
   },
   "outputs": [],
   "source": [
    "#Delete NaN values\n",
    "def del_nans(data):\n",
    "    nans = data.isnull().values.T\n",
    "    nans_column = []\n",
    "\n",
    "    for i in range(len(nans)):\n",
    "        if True in nans[i]:\n",
    "            nans_column.append(i)\n",
    "\n",
    "    for i in nans_column:\n",
    "        for j in range(len(data)):\n",
    "            if math.isnan(data.iloc[j, i]):\n",
    "                data.iloc[j, i] = 0"
   ]
  },
  {
   "cell_type": "code",
   "execution_count": 4,
   "id": "20d1889d",
   "metadata": {
    "execution": {
     "iopub.execute_input": "2022-10-29T13:43:04.471826Z",
     "iopub.status.busy": "2022-10-29T13:43:04.471422Z",
     "iopub.status.idle": "2022-10-29T13:43:04.479573Z",
     "shell.execute_reply": "2022-10-29T13:43:04.478217Z"
    },
    "papermill": {
     "duration": 0.01632,
     "end_time": "2022-10-29T13:43:04.482123",
     "exception": false,
     "start_time": "2022-10-29T13:43:04.465803",
     "status": "completed"
    },
    "tags": []
   },
   "outputs": [],
   "source": [
    "def set_data():\n",
    "    #Params and replies for train\n",
    "    path_train_data = '/kaggle/input/house-prices-advanced-regression-techniques/train.csv'\n",
    "    path_test_data = '/kaggle/input/house-prices-advanced-regression-techniques/test.csv'\n",
    "    path_submission_data = '/kaggle/input/house-prices-advanced-regression-techniques/sample_submission.csv'\n",
    "    \n",
    "    train_data = pd.read_csv(path_train_data)\n",
    "    test_data = pd.read_csv(path_test_data)\n",
    "    submission_data = pd.read_csv(path_submission_data)\n",
    "    \n",
    "    train_param = train_data.iloc[:,1:-1]\n",
    "    train_reply = train_data.iloc[:,-1]\n",
    "    test_param = test_data.iloc[:,1:]\n",
    "    test_reply = submission_data.iloc[:,-1]\n",
    "    \n",
    "    return test_param, test_reply, train_param, train_reply"
   ]
  },
  {
   "cell_type": "code",
   "execution_count": 5,
   "id": "d8e007e6",
   "metadata": {
    "execution": {
     "iopub.execute_input": "2022-10-29T13:43:04.492278Z",
     "iopub.status.busy": "2022-10-29T13:43:04.491883Z",
     "iopub.status.idle": "2022-10-29T13:43:04.498430Z",
     "shell.execute_reply": "2022-10-29T13:43:04.497117Z"
    },
    "papermill": {
     "duration": 0.014643,
     "end_time": "2022-10-29T13:43:04.501016",
     "exception": false,
     "start_time": "2022-10-29T13:43:04.486373",
     "status": "completed"
    },
    "tags": []
   },
   "outputs": [],
   "source": [
    "def normalization_x(data):\n",
    "    for i in range(data.shape[1]):\n",
    "        data[:, i] = (data[:, i] - np.mean(data[:, i])) / np.var(data[:, i])"
   ]
  },
  {
   "cell_type": "code",
   "execution_count": 6,
   "id": "e035789c",
   "metadata": {
    "execution": {
     "iopub.execute_input": "2022-10-29T13:43:04.511087Z",
     "iopub.status.busy": "2022-10-29T13:43:04.510682Z",
     "iopub.status.idle": "2022-10-29T13:43:04.516669Z",
     "shell.execute_reply": "2022-10-29T13:43:04.515343Z"
    },
    "papermill": {
     "duration": 0.013864,
     "end_time": "2022-10-29T13:43:04.519092",
     "exception": false,
     "start_time": "2022-10-29T13:43:04.505228",
     "status": "completed"
    },
    "tags": []
   },
   "outputs": [],
   "source": [
    "def normalization_y(data):\n",
    "    data = data / np.max(data)\n",
    "    \n",
    "    return data"
   ]
  },
  {
   "cell_type": "code",
   "execution_count": 7,
   "id": "4ef84a3d",
   "metadata": {
    "execution": {
     "iopub.execute_input": "2022-10-29T13:43:04.529895Z",
     "iopub.status.busy": "2022-10-29T13:43:04.528623Z",
     "iopub.status.idle": "2022-10-29T13:43:04.535298Z",
     "shell.execute_reply": "2022-10-29T13:43:04.534256Z"
    },
    "papermill": {
     "duration": 0.014446,
     "end_time": "2022-10-29T13:43:04.537675",
     "exception": false,
     "start_time": "2022-10-29T13:43:04.523229",
     "status": "completed"
    },
    "tags": []
   },
   "outputs": [],
   "source": [
    "def preprocessing_y(data):\n",
    "    preprocessing_data = np.array(data, dtype=np.float64)\n",
    "    preprocessing_data = normalization_y(preprocessing_data)\n",
    "    \n",
    "    return preprocessing_data"
   ]
  },
  {
   "cell_type": "code",
   "execution_count": 8,
   "id": "b3201538",
   "metadata": {
    "execution": {
     "iopub.execute_input": "2022-10-29T13:43:04.547659Z",
     "iopub.status.busy": "2022-10-29T13:43:04.547284Z",
     "iopub.status.idle": "2022-10-29T13:43:04.552777Z",
     "shell.execute_reply": "2022-10-29T13:43:04.551617Z"
    },
    "papermill": {
     "duration": 0.01318,
     "end_time": "2022-10-29T13:43:04.555001",
     "exception": false,
     "start_time": "2022-10-29T13:43:04.541821",
     "status": "completed"
    },
    "tags": []
   },
   "outputs": [],
   "source": [
    "def preprocessing_x(data):\n",
    "    preprocessing_data = data\n",
    "    \n",
    "    del_nans(preprocessing_data)\n",
    "    preprocessing_data = np.array(data, dtype=np.float64)\n",
    "    normalization_x(preprocessing_data)\n",
    "    \n",
    "    return preprocessing_data"
   ]
  },
  {
   "cell_type": "code",
   "execution_count": 9,
   "id": "02bccb09",
   "metadata": {
    "execution": {
     "iopub.execute_input": "2022-10-29T13:43:04.565253Z",
     "iopub.status.busy": "2022-10-29T13:43:04.564830Z",
     "iopub.status.idle": "2022-10-29T13:43:04.571299Z",
     "shell.execute_reply": "2022-10-29T13:43:04.569881Z"
    },
    "papermill": {
     "duration": 0.014616,
     "end_time": "2022-10-29T13:43:04.574003",
     "exception": false,
     "start_time": "2022-10-29T13:43:04.559387",
     "status": "completed"
    },
    "tags": []
   },
   "outputs": [],
   "source": [
    "def electrical_handler(data):\n",
    "    new_data = data.replace({'SBrkr': 0, 'FuseA': 1, 'FuseF': 2, 'FuseP': 3, 'Mix': 4})\n",
    "    \n",
    "    return new_data"
   ]
  },
  {
   "cell_type": "code",
   "execution_count": 10,
   "id": "69baa46b",
   "metadata": {
    "execution": {
     "iopub.execute_input": "2022-10-29T13:43:04.583978Z",
     "iopub.status.busy": "2022-10-29T13:43:04.583565Z",
     "iopub.status.idle": "2022-10-29T13:43:04.743063Z",
     "shell.execute_reply": "2022-10-29T13:43:04.741741Z"
    },
    "papermill": {
     "duration": 0.167803,
     "end_time": "2022-10-29T13:43:04.746018",
     "exception": false,
     "start_time": "2022-10-29T13:43:04.578215",
     "status": "completed"
    },
    "tags": []
   },
   "outputs": [],
   "source": [
    "test_param, test_reply, train_param, train_reply = set_data()\n",
    "\n",
    "features = ['LotArea', 'YearBuilt', '1stFlrSF', '2ndFlrSF', 'FullBath', 'BedroomAbvGr', 'TotRmsAbvGrd', 'Electrical']\n",
    "\n",
    "train_X = train_param[features]\n",
    "train_X = electrical_handler(train_X)\n",
    "train_X  = preprocessing_x(train_X)\n",
    "\n",
    "train_y = preprocessing_y(train_reply)\n",
    "\n",
    "test_X = test_param[features]\n",
    "test_X = electrical_handler(test_X)\n",
    "test_X  = preprocessing_x(test_X)\n",
    "\n",
    "test_y = preprocessing_y(test_reply)"
   ]
  },
  {
   "cell_type": "code",
   "execution_count": 11,
   "id": "ed7a6035",
   "metadata": {
    "execution": {
     "iopub.execute_input": "2022-10-29T13:43:04.755790Z",
     "iopub.status.busy": "2022-10-29T13:43:04.755407Z",
     "iopub.status.idle": "2022-10-29T13:43:04.862779Z",
     "shell.execute_reply": "2022-10-29T13:43:04.861347Z"
    },
    "papermill": {
     "duration": 0.116002,
     "end_time": "2022-10-29T13:43:04.866136",
     "exception": false,
     "start_time": "2022-10-29T13:43:04.750134",
     "status": "completed"
    },
    "tags": []
   },
   "outputs": [
    {
     "data": {
      "text/plain": [
       "SVR(kernel='linear')"
      ]
     },
     "execution_count": 11,
     "metadata": {},
     "output_type": "execute_result"
    }
   ],
   "source": [
    "regressor = SVR(kernel='linear')\n",
    "regressor.fit(train_X, train_y)"
   ]
  },
  {
   "cell_type": "code",
   "execution_count": 12,
   "id": "18d5fddf",
   "metadata": {
    "execution": {
     "iopub.execute_input": "2022-10-29T13:43:04.876336Z",
     "iopub.status.busy": "2022-10-29T13:43:04.875926Z",
     "iopub.status.idle": "2022-10-29T13:43:04.890892Z",
     "shell.execute_reply": "2022-10-29T13:43:04.889295Z"
    },
    "papermill": {
     "duration": 0.024014,
     "end_time": "2022-10-29T13:43:04.894471",
     "exception": false,
     "start_time": "2022-10-29T13:43:04.870457",
     "status": "completed"
    },
    "tags": []
   },
   "outputs": [
    {
     "name": "stdout",
     "output_type": "stream",
     "text": [
      "-23.054694746918823\n"
     ]
    }
   ],
   "source": [
    "val_predictions = regressor.predict(test_X)\n",
    "val_mae = r2_score(val_predictions, test_y)\n",
    "print(val_mae)"
   ]
  },
  {
   "cell_type": "code",
   "execution_count": null,
   "id": "bbccab90",
   "metadata": {
    "papermill": {
     "duration": 0.003892,
     "end_time": "2022-10-29T13:43:04.903124",
     "exception": false,
     "start_time": "2022-10-29T13:43:04.899232",
     "status": "completed"
    },
    "tags": []
   },
   "outputs": [],
   "source": []
  }
 ],
 "metadata": {
  "kernelspec": {
   "display_name": "Python 3",
   "language": "python",
   "name": "python3"
  },
  "language_info": {
   "codemirror_mode": {
    "name": "ipython",
    "version": 3
   },
   "file_extension": ".py",
   "mimetype": "text/x-python",
   "name": "python",
   "nbconvert_exporter": "python",
   "pygments_lexer": "ipython3",
   "version": "3.7.12"
  },
  "papermill": {
   "default_parameters": {},
   "duration": 11.751726,
   "end_time": "2022-10-29T13:43:05.630590",
   "environment_variables": {},
   "exception": null,
   "input_path": "__notebook__.ipynb",
   "output_path": "__notebook__.ipynb",
   "parameters": {},
   "start_time": "2022-10-29T13:42:53.878864",
   "version": "2.3.4"
  }
 },
 "nbformat": 4,
 "nbformat_minor": 5
}
